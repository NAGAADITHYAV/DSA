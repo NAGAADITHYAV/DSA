{
 "cells": [
  {
   "cell_type": "code",
   "execution_count": 2,
   "id": "36192011",
   "metadata": {},
   "outputs": [],
   "source": [
    "class Node:\n",
    "    def __init__(self, val):\n",
    "        self.val = val\n",
    "        self.left = None\n",
    "        self.right = None\n",
    "\n",
    "def InorderPrint(root):\n",
    "    if not root:\n",
    "        return\n",
    "    InorderPrint(root.left)\n",
    "    print(root.val)\n",
    "    InorderPrint(root.right)\n",
    "\n",
    "def PreOrderPrint(root):\n",
    "    if not root:\n",
    "        return\n",
    "    print(root.val)\n",
    "    PreOrderPrint(root.left)\n",
    "    PreOrderPrint(root.right)\n",
    "\n",
    "def PostOrderPrint(root):\n",
    "    if not root:\n",
    "        return\n",
    "    PostOrderPrint(root.left)\n",
    "    PostOrderPrint(root.right)\n",
    "    print(root.val)"
   ]
  },
  {
   "cell_type": "code",
   "execution_count": 1,
   "id": "a954f6dc",
   "metadata": {},
   "outputs": [
    {
     "name": "stdout",
     "output_type": "stream",
     "text": [
      "3.11.5 (main, Sep 11 2023, 08:31:25) [Clang 14.0.6 ]\n"
     ]
    }
   ],
   "source": [
    "\n",
    "import sys\n",
    "\n",
    "print(sys.version)"
   ]
  },
  {
   "cell_type": "code",
   "execution_count": 7,
   "id": "bd4eb15b",
   "metadata": {},
   "outputs": [],
   "source": [
    "root = Node(5)\n",
    "root.left = Node(3)\n",
    "root.right = Node(7)"
   ]
  },
  {
   "cell_type": "code",
   "execution_count": 8,
   "id": "baa9efa5",
   "metadata": {},
   "outputs": [
    {
     "data": {
      "text/plain": [
       "5"
      ]
     },
     "execution_count": 8,
     "metadata": {},
     "output_type": "execute_result"
    }
   ],
   "source": [
    "root.val"
   ]
  },
  {
   "cell_type": "code",
   "execution_count": 9,
   "id": "e769f6c7",
   "metadata": {},
   "outputs": [
    {
     "data": {
      "text/plain": [
       "3"
      ]
     },
     "execution_count": 9,
     "metadata": {},
     "output_type": "execute_result"
    }
   ],
   "source": [
    "root.left.val"
   ]
  },
  {
   "cell_type": "code",
   "execution_count": 10,
   "id": "e136b0b6",
   "metadata": {},
   "outputs": [
    {
     "data": {
      "text/plain": [
       "7"
      ]
     },
     "execution_count": 10,
     "metadata": {},
     "output_type": "execute_result"
    }
   ],
   "source": [
    "root.right.val"
   ]
  },
  {
   "cell_type": "code",
   "execution_count": null,
   "id": "ad79cdda",
   "metadata": {},
   "outputs": [],
   "source": []
  }
 ],
 "metadata": {
  "kernelspec": {
   "display_name": "Python 3 (ipykernel)",
   "language": "python",
   "name": "python3"
  },
  "language_info": {
   "codemirror_mode": {
    "name": "ipython",
    "version": 3
   },
   "file_extension": ".py",
   "mimetype": "text/x-python",
   "name": "python",
   "nbconvert_exporter": "python",
   "pygments_lexer": "ipython3",
   "version": "3.11.5"
  }
 },
 "nbformat": 4,
 "nbformat_minor": 5
}
