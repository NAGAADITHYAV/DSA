{
 "cells": [
  {
   "cell_type": "code",
   "execution_count": 5,
   "id": "12d61b07",
   "metadata": {},
   "outputs": [],
   "source": [
    "def challenge(s):\n",
    "    current_state = 0\n",
    "    flag = True\n",
    "    for i in range(len(s)):\n",
    "        if current_state ==0:\n",
    "            if s[i] == 'b':\n",
    "                current_state = 1\n",
    "                index = i\n",
    "        elif current_state ==1:\n",
    "            if s[i] == 'a':\n",
    "                current_state = 2\n",
    "            else:\n",
    "                index = i\n",
    "        elif current_state == 2:\n",
    "            if s[i] == 'a':\n",
    "                current_state = 3\n",
    "            else:\n",
    "                current_state = 1\n",
    "                index = i\n",
    "        else:\n",
    "            if s[i] == 'a':\n",
    "                current_state = 0\n",
    "            else:\n",
    "                if flag:\n",
    "                    print('YES')\n",
    "                    flag = False\n",
    "                else:\n",
    "                    print(index)\n",
    "                    current_state = 2\n",
    "                    index = i"
   ]
  },
  {
   "cell_type": "code",
   "execution_count": 6,
   "id": "79b88217",
   "metadata": {},
   "outputs": [
    {
     "name": "stdout",
     "output_type": "stream",
     "text": [
      "s\n",
      "done\n"
     ]
    }
   ],
   "source": [
    "s = input()\n",
    "challenge(s)"
   ]
  },
  {
   "cell_type": "code",
   "execution_count": null,
   "id": "b8f09951",
   "metadata": {},
   "outputs": [],
   "source": []
  },
  {
   "cell_type": "code",
   "execution_count": null,
   "id": "382b2271",
   "metadata": {},
   "outputs": [],
   "source": []
  },
  {
   "cell_type": "code",
   "execution_count": null,
   "id": "188f47b5",
   "metadata": {},
   "outputs": [],
   "source": []
  },
  {
   "cell_type": "code",
   "execution_count": null,
   "id": "09329c7d",
   "metadata": {},
   "outputs": [],
   "source": []
  },
  {
   "cell_type": "code",
   "execution_count": null,
   "id": "1917eb4f",
   "metadata": {},
   "outputs": [],
   "source": []
  },
  {
   "cell_type": "code",
   "execution_count": null,
   "id": "82bcf73a",
   "metadata": {},
   "outputs": [],
   "source": []
  }
 ],
 "metadata": {
  "kernelspec": {
   "display_name": "Python 3 (ipykernel)",
   "language": "python",
   "name": "python3"
  },
  "language_info": {
   "codemirror_mode": {
    "name": "ipython",
    "version": 3
   },
   "file_extension": ".py",
   "mimetype": "text/x-python",
   "name": "python",
   "nbconvert_exporter": "python",
   "pygments_lexer": "ipython3",
   "version": "3.11.3"
  }
 },
 "nbformat": 4,
 "nbformat_minor": 5
}
