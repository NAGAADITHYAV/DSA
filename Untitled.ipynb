{
 "cells": [
  {
   "cell_type": "code",
   "execution_count": 33,
   "id": "470f866d",
   "metadata": {},
   "outputs": [],
   "source": [
    "class Node:\n",
    "    def __init__(self, val):\n",
    "        self.val = val\n",
    "        self.left = None\n",
    "        self.right = None\n",
    "\n",
    "def InOrderPrint(root):\n",
    "    if not root:\n",
    "        return\n",
    "    InorderPrint(root.left)\n",
    "    print(root.val)\n",
    "    InorderPrint(root.right)\n",
    "\n",
    "def PreOrderPrint(root):\n",
    "    if not root:\n",
    "        return\n",
    "    print(root.val)\n",
    "    PreOrderPrint(root.left)\n",
    "    PreOrderPrint(root.right)\n",
    "\n",
    "def PostOrderPrint(root):\n",
    "    if not root:\n",
    "        return\n",
    "    PostOrderPrint(root.left)\n",
    "    PostOrderPrint(root.right)\n",
    "    print(root.val)\n",
    "\n",
    "def levelorder(root):\n",
    "    if not root:\n",
    "        return\n",
    "    Nodes = [root.left, root.right]\n",
    "    values = [[root.val]]\n",
    "    LatestNodes = []\n",
    "    valuesNow = []\n",
    "    while(len(Nodes)>0):\n",
    "        for Node in Nodes:\n",
    "            if not Node:\n",
    "                continue\n",
    "            valuesNow.append(Node.val)\n",
    "            if Node.left:\n",
    "                LatestNodes.append(Node.left)\n",
    "            if Node.right:\n",
    "                LatestNodes.append(Node.right)\n",
    "        Nodes = LatestNodes\n",
    "        values.append(valuesNow)\n",
    "        LatestNodes = []\n",
    "        valuesNow = []\n",
    "    for x in values:\n",
    "        print(x.pop())\n",
    "    \n",
    "    "
   ]
  },
  {
   "cell_type": "code",
   "execution_count": 34,
   "id": "24b92461",
   "metadata": {},
   "outputs": [
    {
     "data": {
      "text/plain": [
       "[None]"
      ]
     },
     "execution_count": 34,
     "metadata": {},
     "output_type": "execute_result"
    }
   ],
   "source": [
    "[None]"
   ]
  },
  {
   "cell_type": "code",
   "execution_count": 35,
   "id": "2adf8b94",
   "metadata": {},
   "outputs": [],
   "source": [
    "root = Node(8)\n",
    "root.left = Node(4)\n",
    "root.left.left = Node(2)\n",
    "# root.left.right = Node(6)\n",
    "# root.left.right.left = Node(5)\n",
    "# root.left.right.right = Node(7)\n",
    "root.left.left.left = Node(1)\n",
    "root.left.left.right = Node(3)\n",
    "root.right = Node(12)\n",
    "root.right.left = Node(10)\n",
    "root.right.left.left = Node(9)\n",
    "root.right.left.right = Node(11)\n",
    "root.right.right = Node(14)\n",
    "root.right.right.left = Node(13)\n",
    "# root.right.right.right = Node(15)"
   ]
  },
  {
   "cell_type": "code",
   "execution_count": null,
   "id": "6c010354",
   "metadata": {},
   "outputs": [],
   "source": []
  },
  {
   "cell_type": "code",
   "execution_count": null,
   "id": "0ff18a03",
   "metadata": {},
   "outputs": [],
   "source": []
  },
  {
   "cell_type": "code",
   "execution_count": null,
   "id": "d86bfe0c",
   "metadata": {},
   "outputs": [],
   "source": []
  },
  {
   "cell_type": "code",
   "execution_count": 36,
   "id": "61c898d9",
   "metadata": {},
   "outputs": [
    {
     "name": "stdout",
     "output_type": "stream",
     "text": [
      "8\n",
      "12\n",
      "14\n",
      "13\n"
     ]
    }
   ],
   "source": [
    "# InOrderPrint(root)\n",
    "# PreOrderPrint(root)\n",
    "# PostOrderPrint(root)\n",
    "levelorder(root)"
   ]
  },
  {
   "cell_type": "code",
   "execution_count": 37,
   "id": "91c9a1b4",
   "metadata": {},
   "outputs": [
    {
     "name": "stdout",
     "output_type": "stream",
     "text": [
      "Sum of absolute differences: 9\n"
     ]
    }
   ],
   "source": [
    "def sum_of_absolute_differences(arr1, arr2):\n",
    "    # Sort both arrays\n",
    "    arr1.sort()\n",
    "    arr2.sort()\n",
    "    \n",
    "    # Calculate the sum of absolute differences\n",
    "    total_difference = sum(abs(a - b) for a, b in zip(arr1, arr2))\n",
    "    \n",
    "    return total_difference\n",
    "\n",
    "# Example usage\n",
    "arr1 = [3, 2, 1]\n",
    "arr2 = [6, 5, 4]\n",
    "result = sum_of_absolute_differences(arr1, arr2)\n",
    "print(\"Sum of absolute differences:\", result)\n"
   ]
  },
  {
   "cell_type": "code",
   "execution_count": null,
   "id": "2681491b",
   "metadata": {},
   "outputs": [],
   "source": []
  }
 ],
 "metadata": {
  "kernelspec": {
   "display_name": "Python 3 (ipykernel)",
   "language": "python",
   "name": "python3"
  },
  "language_info": {
   "codemirror_mode": {
    "name": "ipython",
    "version": 3
   },
   "file_extension": ".py",
   "mimetype": "text/x-python",
   "name": "python",
   "nbconvert_exporter": "python",
   "pygments_lexer": "ipython3",
   "version": "3.11.5"
  }
 },
 "nbformat": 4,
 "nbformat_minor": 5
}
