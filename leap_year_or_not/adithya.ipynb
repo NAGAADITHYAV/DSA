{
 "cells": [
  {
   "cell_type": "code",
   "execution_count": 5,
   "id": "e0180cd6",
   "metadata": {},
   "outputs": [],
   "source": [
    "def leap_or_not(y):\n",
    "    if y%4 !=0:\n",
    "        return False\n",
    "    elif y%100 == 0:\n",
    "        return False\n",
    "    else:\n",
    "        return True\n",
    "    "
   ]
  },
  {
   "cell_type": "code",
   "execution_count": 6,
   "id": "de73fb37",
   "metadata": {},
   "outputs": [
    {
     "name": "stdout",
     "output_type": "stream",
     "text": [
      "2004\n"
     ]
    },
    {
     "data": {
      "text/plain": [
       "True"
      ]
     },
     "execution_count": 6,
     "metadata": {},
     "output_type": "execute_result"
    }
   ],
   "source": [
    "y = int(input())\n",
    "leap_or_not(y)"
   ]
  },
  {
   "cell_type": "code",
   "execution_count": null,
   "id": "4fa63783",
   "metadata": {},
   "outputs": [],
   "source": []
  }
 ],
 "metadata": {
  "kernelspec": {
   "display_name": "Python 3 (ipykernel)",
   "language": "python",
   "name": "python3"
  },
  "language_info": {
   "codemirror_mode": {
    "name": "ipython",
    "version": 3
   },
   "file_extension": ".py",
   "mimetype": "text/x-python",
   "name": "python",
   "nbconvert_exporter": "python",
   "pygments_lexer": "ipython3",
   "version": "3.11.3"
  }
 },
 "nbformat": 4,
 "nbformat_minor": 5
}
