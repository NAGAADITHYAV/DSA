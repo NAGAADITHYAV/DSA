{
 "cells": [
  {
   "cell_type": "code",
   "execution_count": null,
   "id": "9e8b55a7",
   "metadata": {},
   "outputs": [],
   "source": [
    "#include <stdio.c>\n",
    "int main(){\n",
    "    int a;\n",
    "    printf(\"Hello!!\");\n",
    "    scanf(\"%d\", &a);\n",
    "    printf(\"a: %d\",a);\n",
    "    return 0;\n",
    "}"
   ]
  },
  {
   "cell_type": "code",
   "execution_count": 21,
   "id": "7a53d0c1",
   "metadata": {},
   "outputs": [
    {
     "name": "stdout",
     "output_type": "stream",
     "text": [
      "Hello!\n",
      "Enter a value: 5\n",
      "50\n"
     ]
    }
   ],
   "source": [
    "print('Hello!')\n",
    "a = int(input(\"Enter a value: \"))\n",
    "print(a*10)"
   ]
  },
  {
   "cell_type": "code",
   "execution_count": 26,
   "id": "59ff4568",
   "metadata": {},
   "outputs": [
    {
     "name": "stdout",
     "output_type": "stream",
     "text": [
      "21\n",
      "Heloo\n"
     ]
    }
   ],
   "source": [
    "if (20<8):\n",
    "    print('s1')\n",
    "    print('2')\n",
    "else:\n",
    "    print(21)\n",
    "print('Heloo')"
   ]
  },
  {
   "cell_type": "code",
   "execution_count": 17,
   "id": "d9ad2936",
   "metadata": {},
   "outputs": [
    {
     "data": {
      "text/plain": [
       "'55555'"
      ]
     },
     "execution_count": 17,
     "metadata": {},
     "output_type": "execute_result"
    }
   ],
   "source": [
    "'5'*5\n"
   ]
  },
  {
   "cell_type": "code",
   "execution_count": 10,
   "id": "89faf62e",
   "metadata": {},
   "outputs": [],
   "source": [
    "df= 5"
   ]
  },
  {
   "cell_type": "code",
   "execution_count": null,
   "id": "3015a244",
   "metadata": {},
   "outputs": [],
   "source": []
  }
 ],
 "metadata": {
  "kernelspec": {
   "display_name": "Python 3 (ipykernel)",
   "language": "python",
   "name": "python3"
  },
  "language_info": {
   "codemirror_mode": {
    "name": "ipython",
    "version": 3
   },
   "file_extension": ".py",
   "mimetype": "text/x-python",
   "name": "python",
   "nbconvert_exporter": "python",
   "pygments_lexer": "ipython3",
   "version": "3.11.3"
  }
 },
 "nbformat": 4,
 "nbformat_minor": 5
}
